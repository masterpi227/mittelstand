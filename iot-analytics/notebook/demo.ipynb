{
 "cells": [
  {
   "cell_type": "code",
   "execution_count": 3,
   "id": "614c2cf9-3c1a-45fa-97f1-d06b3d9ed0eb",
   "metadata": {},
   "outputs": [
    {
     "name": "stdout",
     "output_type": "stream",
     "text": [
      "Requirement already satisfied: influxdb in /opt/conda/lib/python3.7/site-packages (5.3.1)\n",
      "Requirement already satisfied: requests>=2.17.0 in /opt/conda/lib/python3.7/site-packages (from influxdb) (2.26.0)\n",
      "Requirement already satisfied: six>=1.10.0 in /opt/conda/lib/python3.7/site-packages (from influxdb) (1.16.0)\n",
      "Requirement already satisfied: python-dateutil>=2.6.0 in /opt/conda/lib/python3.7/site-packages (from influxdb) (2.8.2)\n",
      "Requirement already satisfied: msgpack in /opt/conda/lib/python3.7/site-packages (from influxdb) (1.0.3)\n",
      "Requirement already satisfied: pytz in /opt/conda/lib/python3.7/site-packages (from influxdb) (2021.3)\n",
      "Requirement already satisfied: urllib3<1.27,>=1.21.1 in /opt/conda/lib/python3.7/site-packages (from requests>=2.17.0->influxdb) (1.26.7)\n",
      "Requirement already satisfied: idna<4,>=2.5 in /opt/conda/lib/python3.7/site-packages (from requests>=2.17.0->influxdb) (3.1)\n",
      "Requirement already satisfied: charset-normalizer~=2.0.0 in /opt/conda/lib/python3.7/site-packages (from requests>=2.17.0->influxdb) (2.0.8)\n",
      "Requirement already satisfied: certifi>=2017.4.17 in /opt/conda/lib/python3.7/site-packages (from requests>=2.17.0->influxdb) (2021.10.8)\n",
      "Note: you may need to restart the kernel to use updated packages.\n"
     ]
    }
   ],
   "source": [
    "pip install influxdb"
   ]
  },
  {
   "cell_type": "code",
   "execution_count": 50,
   "id": "66bd3597-c0e6-43a3-8178-dbb654d1d73c",
   "metadata": {},
   "outputs": [],
   "source": [
    "import influxdb\n",
    "from statsmodels.tsa.arima.model import ARIMA\n",
    "import numpy as np\n",
    "import pandas as pd\n",
    "import datetime\n",
    "import time\n",
    "from matplotlib import pyplot"
   ]
  },
  {
   "cell_type": "code",
   "execution_count": 6,
   "id": "8e3c37a3-ccfd-4f01-ab0b-f8ba6fa5ee71",
   "metadata": {},
   "outputs": [],
   "source": [
    "client = influxdb.InfluxDBClient(host='instance-influxdb', port=8086, username='user', password='ax3s4cd5fv6rbgt7hnz8jmu9',database='fabrikdaten')"
   ]
  },
  {
   "cell_type": "code",
   "execution_count": 58,
   "id": "e4340ceb-9ffe-4687-a673-09315bcc138a",
   "metadata": {},
   "outputs": [],
   "source": [
    "result = client.query('select value FROM \"carbon_monoxide\" WHERE time >= now() - %s ;' %(\"1h\"))\n",
    "point = list(result.get_points(measurement='carbon_monoxide'))\n",
    "output_array = []\n",
    "for i in range(len(point)):\n",
    "    x = point[i]\n",
    "    try:\n",
    "        x['time'] = datetime.datetime.strptime(x['time'], '%Y-%m-%dT%H:%M:%S.%fZ') #\n",
    "    except:\n",
    "        x['time'] = datetime.datetime.strptime(x['time'], '%Y-%m-%dT%H:%M:%SZ') #.%f\n",
    "    x['time'] = x['time'].timestamp()\n",
    "for p in point:\n",
    "    output_array.append(list(p.values()))\n",
    "\n",
    "output_array = np.array(output_array)\n",
    "series = pd.Series([x[1] for x in output_array])"
   ]
  },
  {
   "cell_type": "code",
   "execution_count": 39,
   "id": "0083ebf7-f2af-4ba7-833c-c97b0d1d907b",
   "metadata": {},
   "outputs": [],
   "source": []
  },
  {
   "cell_type": "code",
   "execution_count": 59,
   "id": "112311c7-164c-475a-8eea-be884a679181",
   "metadata": {},
   "outputs": [
    {
     "name": "stdout",
     "output_type": "stream",
     "text": [
      "                               SARIMAX Results                                \n",
      "==============================================================================\n",
      "Dep. Variable:                      y   No. Observations:                23704\n",
      "Model:                 ARIMA(5, 1, 0)   Log Likelihood             -118547.686\n",
      "Date:                Tue, 14 Dec 2021   AIC                         237107.371\n",
      "Time:                        01:21:33   BIC                         237155.812\n",
      "Sample:                             0   HQIC                        237123.090\n",
      "                              - 23704                                         \n",
      "Covariance Type:                  opg                                         \n",
      "==============================================================================\n",
      "                 coef    std err          z      P>|z|      [0.025      0.975]\n",
      "------------------------------------------------------------------------------\n",
      "ar.L1         -0.5015      0.003   -192.707      0.000      -0.507      -0.496\n",
      "ar.L2         -0.2798      0.005    -59.685      0.000      -0.289      -0.271\n",
      "ar.L3         -0.1636      0.007    -22.994      0.000      -0.178      -0.150\n",
      "ar.L4         -0.0952      0.007    -13.264      0.000      -0.109      -0.081\n",
      "ar.L5         -0.0475      0.011     -4.433      0.000      -0.068      -0.027\n",
      "sigma2      1291.7611      3.473    371.991      0.000    1284.955    1298.567\n",
      "===================================================================================\n",
      "Ljung-Box (L1) (Q):                   0.02   Jarque-Bera (JB):            485556.97\n",
      "Prob(Q):                              0.88   Prob(JB):                         0.00\n",
      "Heteroskedasticity (H):               0.96   Skew:                            -2.39\n",
      "Prob(H) (two-sided):                  0.09   Kurtosis:                        24.65\n",
      "===================================================================================\n",
      "\n",
      "Warnings:\n",
      "[1] Covariance matrix calculated using the outer product of gradients (complex-step).\n"
     ]
    },
    {
     "data": {
      "image/png": "[encoded data removed]",
      "text/plain": [
       "<Figure size 432x288 with 1 Axes>"
      ]
     },
     "metadata": {
      "needs_background": "light"
     },
     "output_type": "display_data"
    },
    {
     "data": {
      "image/png": "[encoded data removed]",
      "text/plain": [
       "<Figure size 432x288 with 1 Axes>"
      ]
     },
     "metadata": {
      "needs_background": "light"
     },
     "output_type": "display_data"
    },
    {
     "name": "stdout",
     "output_type": "stream",
     "text": [
      "                  0\n",
      "count  23704.000000\n",
      "mean       0.007164\n",
      "std       35.989391\n",
      "min     -205.370343\n",
      "25%       -0.476426\n",
      "50%        0.000000\n",
      "75%        0.495090\n",
      "max      208.700000\n"
     ]
    }
   ],
   "source": [
    "model = ARIMA(series, order=(5,1,0))\n",
    "model_fit = model.fit()\n",
    "# summary of fit model\n",
    "print(model_fit.summary())\n",
    "# line plot of residuals\n",
    "residuals = pd.DataFrame(model_fit.resid)\n",
    "residuals.plot()\n",
    "pyplot.show()\n",
    "# density plot of residuals\n",
    "residuals.plot(kind='kde')\n",
    "pyplot.show()\n",
    "# summary stats of residuals\n",
    "print(residuals.describe())"
   ]
  },
  {
   "cell_type": "code",
   "execution_count": 60,
   "id": "175061d4-a790-40a3-b970-bed80a2097f5",
   "metadata": {},
   "outputs": [
    {
     "name": "stdout",
     "output_type": "stream",
     "text": [
      "23704    2.586201\n",
      "23705    2.571121\n",
      "23706    2.573938\n",
      "23707    2.628482\n",
      "23708    2.627739\n",
      "           ...   \n",
      "23799    2.600092\n",
      "23800    2.600092\n",
      "23801    2.600092\n",
      "23802    2.600092\n",
      "23803    2.600092\n",
      "Name: predicted_mean, Length: 100, dtype: float64\n"
     ]
    }
   ],
   "source": [
    "fc = model_fit.forecast(steps=100)\n",
    "print(fc)"
   ]
  },
  {
   "cell_type": "code",
   "execution_count": 62,
   "id": "17e6d257-51f9-4487-804e-35139cb7b8cd",
   "metadata": {},
   "outputs": [],
   "source": [
    "base_item = {\"measurement\":\"carbon_monoxide\", \"tags\":{\"machine\":\"room_lab\"}, \"fields\":{\"predict\":None}, \"timestamp\":None }\n",
    "ts = time.time()*1000\n",
    "for elem in fc:\n",
    "    ts += 10\n",
    "    item = base_item\n",
    "    item[\"fields\"][\"predict\"] = elem\n",
    "    item[\"timestamp\"] = int(ts)\n",
    "    client.write_points([item], time_precision=\"ms\")"
   ]
  },
  {
   "cell_type": "code",
   "execution_count": 69,
   "id": "3f69c02d-0fe4-4d22-ae3c-f15afefea030",
   "metadata": {},
   "outputs": [],
   "source": [
    "def forecast_function():\n",
    "    client = influxdb.InfluxDBClient(host='instance-influxdb', port=8086, username='user', password='ax3s4cd5fv6rbgt7hnz8jmu9',database='fabrikdaten')\n",
    "    result = client.query('select value FROM \"carbon_monoxide\" WHERE time >= now() - %s ;' %(\"1h\"))\n",
    "    point = list(result.get_points(measurement='carbon_monoxide'))\n",
    "    output_array = []\n",
    "    for i in range(len(point)):\n",
    "        x = point[i]\n",
    "        try:\n",
    "            x['time'] = datetime.datetime.strptime(x['time'], '%Y-%m-%dT%H:%M:%S.%fZ') #\n",
    "        except:\n",
    "            x['time'] = datetime.datetime.strptime(x['time'], '%Y-%m-%dT%H:%M:%SZ') #.%f\n",
    "        x['time'] = x['time'].timestamp()\n",
    "    for p in point:\n",
    "        output_array.append(list(p.values()))\n",
    "\n",
    "    output_array = np.array(output_array)\n",
    "    series = pd.Series([x[1] for x in output_array])\n",
    "    model = ARIMA(series, order=(5,1,0))\n",
    "    model_fit = model.fit()\n",
    "    fc = model_fit.forecast(steps=10000)\n",
    "    base_item = {\"measurement\":\"carbon_monoxide\", \"tags\":{\"machine\":\"room_lab\"}, \"fields\":{\"predict\":None}, \"timestamp\":None }\n",
    "    ts = time.time()*1000\n",
    "    for elem in fc:\n",
    "        ts += 10\n",
    "        item = base_item\n",
    "        item[\"fields\"][\"predict\"] = elem\n",
    "        item[\"timestamp\"] = int(ts)\n",
    "        client.write_points([item], time_precision=\"ms\")"
   ]
  },
  {
   "cell_type": "code",
   "execution_count": null,
   "id": "ed48d51a-b659-4473-9f93-bf366880bd0e",
   "metadata": {},
   "outputs": [],
   "source": []
  },
  {
   "cell_type": "code",
   "execution_count": null,
   "id": "e692537e-71fa-4f5c-bb9f-6852b2d62b36",
   "metadata": {},
   "outputs": [],
   "source": [
    "forecast_function()"
   ]
  },
  {
   "cell_type": "code",
   "execution_count": null,
   "id": "a892146d-7890-44d2-a25e-f5abd2735cdc",
   "metadata": {},
   "outputs": [],
   "source": []
  }
 ],
 "metadata": {
  "environment": {
   "kernel": "python3",
   "name": "common-cpu.m87",
   "type": "gcloud",
   "uri": "gcr.io/deeplearning-platform-release/base-cpu:m87"
  },
  "kernelspec": {
   "display_name": "Python 3",
   "language": "python",
   "name": "python3"
  },
  "language_info": {
   "codemirror_mode": {
    "name": "ipython",
    "version": 3
   },
   "file_extension": ".py",
   "mimetype": "text/x-python",
   "name": "python",
   "nbconvert_exporter": "python",
   "pygments_lexer": "ipython3",
   "version": "3.7.12"
  }
 },
 "nbformat": 4,
 "nbformat_minor": 5
}
